{
 "cells": [
  {
   "cell_type": "code",
   "execution_count": 1,
   "metadata": {},
   "outputs": [
    {
     "name": "stderr",
     "output_type": "stream",
     "text": [
      "c:\\Users\\luvve\\anaconda3\\envs\\ldm\\Lib\\site-packages\\tqdm\\auto.py:21: TqdmWarning: IProgress not found. Please update jupyter and ipywidgets. See https://ipywidgets.readthedocs.io/en/stable/user_install.html\n",
      "  from .autonotebook import tqdm as notebook_tqdm\n"
     ]
    }
   ],
   "source": [
    "import pandas as pd\n",
    "from datasets import load_dataset\n",
    "from transformers import AutoTokenizer, DataCollatorForSeq2Seq\n",
    "from torch.utils.data import DataLoader"
   ]
  },
  {
   "cell_type": "code",
   "execution_count": 20,
   "metadata": {},
   "outputs": [],
   "source": [
    "class DataHandler:\n",
    "    def __init__(self, model_checkpoint='Helsinki-NLP/opus-mt-en-es', \n",
    "                 max_input_length=128, max_target_length=128):\n",
    "        self.model_checkpoint = model_checkpoint\n",
    "        self.tokenizer = AutoTokenizer.from_pretrained(model_checkpoint)\n",
    "        self.tokenizer.add_special_tokens({\"cls_token\": \"<s>\"})\n",
    "        self.max_input_length = max_input_length\n",
    "        self.max_target_length = max_target_length\n",
    "\n",
    "    def load_dataset(self, filepath):\n",
    "        # df = pd.read_csv(filepath, sep=\"\\t\", header=None)\n",
    "        # df = df.iloc[:30000]\n",
    "        # df.columns = ['en', 'es']\n",
    "        # df.to_csv('spa.csv', index=None)\n",
    "        raw_dataset = load_dataset('csv', data_files='spa.csv')\n",
    "        split = raw_dataset['train'].train_test_split(test_size=0.3, seed=42)\n",
    "        tokenized_datasets = split.map(\n",
    "            self.preprocess_function, batched=True,\n",
    "            remove_columns=split[\"train\"].column_names,\n",
    "        )\n",
    "        return tokenized_datasets\n",
    "\n",
    "    def preprocess_function(self, batch):\n",
    "        model_inputs = self.tokenizer(\n",
    "            batch['en'], max_length=self.max_input_length, truncation=True)\n",
    "        labels = self.tokenizer(\n",
    "            batch['es'], max_length=self.max_target_length, truncation=True)\n",
    "        model_inputs[\"labels\"] = labels[\"input_ids\"]\n",
    "        return model_inputs\n",
    "\n",
    "    def prepare_dataloader(self, tokenized_datasets, batch_size=32):\n",
    "        data_collator = DataCollatorForSeq2Seq(self.tokenizer)\n",
    "        train_loader = DataLoader(\n",
    "            tokenized_datasets[\"train\"],\n",
    "            shuffle=True,\n",
    "            batch_size=batch_size,\n",
    "            collate_fn=data_collator\n",
    "        )\n",
    "        valid_loader = DataLoader(\n",
    "            tokenized_datasets[\"test\"],\n",
    "            batch_size=batch_size,\n",
    "            collate_fn=data_collator\n",
    "        )\n",
    "        return train_loader, valid_loader"
   ]
  },
  {
   "cell_type": "code",
   "execution_count": 21,
   "metadata": {},
   "outputs": [],
   "source": [
    "# Step 1: Instantiate the DataHandler object\n",
    "data_handler = DataHandler()"
   ]
  },
  {
   "cell_type": "code",
   "execution_count": 22,
   "metadata": {},
   "outputs": [
    {
     "name": "stderr",
     "output_type": "stream",
     "text": [
      "Found cached dataset csv (C:/Users/luvve/.cache/huggingface/datasets/csv/default-5578750b55a9497d/0.0.0/6954658bab30a358235fa864b05cf819af0e179325c740e4bc853bcc7ec513e1)\n",
      "100%|██████████| 1/1 [00:00<00:00, 18.33it/s]\n"
     ]
    },
    {
     "data": {
      "text/plain": [
       "DatasetDict({\n",
       "    train: Dataset({\n",
       "        features: ['en', 'es'],\n",
       "        num_rows: 30000\n",
       "    })\n",
       "})"
      ]
     },
     "execution_count": 22,
     "metadata": {},
     "output_type": "execute_result"
    }
   ],
   "source": [
    "\n",
    "raw_dataset = load_dataset('csv', data_files = 'spa.csv')\n",
    "raw_dataset"
   ]
  },
  {
   "cell_type": "code",
   "execution_count": 23,
   "metadata": {},
   "outputs": [
    {
     "data": {
      "text/html": [
       "<div>\n",
       "<style scoped>\n",
       "    .dataframe tbody tr th:only-of-type {\n",
       "        vertical-align: middle;\n",
       "    }\n",
       "\n",
       "    .dataframe tbody tr th {\n",
       "        vertical-align: top;\n",
       "    }\n",
       "\n",
       "    .dataframe thead th {\n",
       "        text-align: right;\n",
       "    }\n",
       "</style>\n",
       "<table border=\"1\" class=\"dataframe\">\n",
       "  <thead>\n",
       "    <tr style=\"text-align: right;\">\n",
       "      <th></th>\n",
       "      <th>train</th>\n",
       "    </tr>\n",
       "  </thead>\n",
       "  <tbody>\n",
       "    <tr>\n",
       "      <th>0</th>\n",
       "      <td>{'en': 'Go.', 'es': 'Ve.'}</td>\n",
       "    </tr>\n",
       "    <tr>\n",
       "      <th>1</th>\n",
       "      <td>{'en': 'Go.', 'es': 'Vete.'}</td>\n",
       "    </tr>\n",
       "    <tr>\n",
       "      <th>2</th>\n",
       "      <td>{'en': 'Go.', 'es': 'Vaya.'}</td>\n",
       "    </tr>\n",
       "    <tr>\n",
       "      <th>3</th>\n",
       "      <td>{'en': 'Hi.', 'es': 'Hola.'}</td>\n",
       "    </tr>\n",
       "    <tr>\n",
       "      <th>4</th>\n",
       "      <td>{'en': 'Run!', 'es': '¡Corre!'}</td>\n",
       "    </tr>\n",
       "    <tr>\n",
       "      <th>...</th>\n",
       "      <td>...</td>\n",
       "    </tr>\n",
       "    <tr>\n",
       "      <th>29995</th>\n",
       "      <td>{'en': 'How was your honeymoon?', 'es': '¿Cómo...</td>\n",
       "    </tr>\n",
       "    <tr>\n",
       "      <th>29996</th>\n",
       "      <td>{'en': 'How well can you skate?', 'es': '¿Qué ...</td>\n",
       "    </tr>\n",
       "    <tr>\n",
       "      <th>29997</th>\n",
       "      <td>{'en': 'How well can you skate?', 'es': '¿Cuán...</td>\n",
       "    </tr>\n",
       "    <tr>\n",
       "      <th>29998</th>\n",
       "      <td>{'en': 'How wide is this river?', 'es': '¿Qué ...</td>\n",
       "    </tr>\n",
       "    <tr>\n",
       "      <th>29999</th>\n",
       "      <td>{'en': 'How will you stop them?', 'es': '¿Cómo...</td>\n",
       "    </tr>\n",
       "  </tbody>\n",
       "</table>\n",
       "<p>30000 rows × 1 columns</p>\n",
       "</div>"
      ],
      "text/plain": [
       "                                                   train\n",
       "0                             {'en': 'Go.', 'es': 'Ve.'}\n",
       "1                           {'en': 'Go.', 'es': 'Vete.'}\n",
       "2                           {'en': 'Go.', 'es': 'Vaya.'}\n",
       "3                           {'en': 'Hi.', 'es': 'Hola.'}\n",
       "4                        {'en': 'Run!', 'es': '¡Corre!'}\n",
       "...                                                  ...\n",
       "29995  {'en': 'How was your honeymoon?', 'es': '¿Cómo...\n",
       "29996  {'en': 'How well can you skate?', 'es': '¿Qué ...\n",
       "29997  {'en': 'How well can you skate?', 'es': '¿Cuán...\n",
       "29998  {'en': 'How wide is this river?', 'es': '¿Qué ...\n",
       "29999  {'en': 'How will you stop them?', 'es': '¿Cómo...\n",
       "\n",
       "[30000 rows x 1 columns]"
      ]
     },
     "execution_count": 23,
     "metadata": {},
     "output_type": "execute_result"
    }
   ],
   "source": [
    "df_dataset = pd.DataFrame(raw_dataset)\n",
    "df_dataset"
   ]
  },
  {
   "cell_type": "code",
   "execution_count": 24,
   "metadata": {},
   "outputs": [
    {
     "data": {
      "text/plain": [
       "0                               {'en': 'Go.', 'es': 'Ve.'}\n",
       "1                             {'en': 'Go.', 'es': 'Vete.'}\n",
       "2                             {'en': 'Go.', 'es': 'Vaya.'}\n",
       "3                             {'en': 'Hi.', 'es': 'Hola.'}\n",
       "4                          {'en': 'Run!', 'es': '¡Corre!'}\n",
       "                               ...                        \n",
       "29995    {'en': 'How was your honeymoon?', 'es': '¿Cómo...\n",
       "29996    {'en': 'How well can you skate?', 'es': '¿Qué ...\n",
       "29997    {'en': 'How well can you skate?', 'es': '¿Cuán...\n",
       "29998    {'en': 'How wide is this river?', 'es': '¿Qué ...\n",
       "29999    {'en': 'How will you stop them?', 'es': '¿Cómo...\n",
       "Name: train, Length: 30000, dtype: object"
      ]
     },
     "execution_count": 24,
     "metadata": {},
     "output_type": "execute_result"
    }
   ],
   "source": [
    "df_dataset['train']"
   ]
  },
  {
   "cell_type": "code",
   "execution_count": 16,
   "metadata": {},
   "outputs": [
    {
     "name": "stderr",
     "output_type": "stream",
     "text": [
      "Loading cached split indices for dataset at C:\\Users\\luvve\\.cache\\huggingface\\datasets\\csv\\default-5578750b55a9497d\\0.0.0\\6954658bab30a358235fa864b05cf819af0e179325c740e4bc853bcc7ec513e1\\cache-f8892a324f96c202.arrow and C:\\Users\\luvve\\.cache\\huggingface\\datasets\\csv\\default-5578750b55a9497d\\0.0.0\\6954658bab30a358235fa864b05cf819af0e179325c740e4bc853bcc7ec513e1\\cache-853b8cac2b333041.arrow\n"
     ]
    },
    {
     "data": {
      "text/plain": [
       "DatasetDict({\n",
       "    train: Dataset({\n",
       "        features: ['en', 'es'],\n",
       "        num_rows: 21000\n",
       "    })\n",
       "    test: Dataset({\n",
       "        features: ['en', 'es'],\n",
       "        num_rows: 9000\n",
       "    })\n",
       "})"
      ]
     },
     "execution_count": 16,
     "metadata": {},
     "output_type": "execute_result"
    }
   ],
   "source": [
    "split = raw_dataset['train'].train_test_split(test_size=0.3, seed=42)\n",
    "split"
   ]
  },
  {
   "cell_type": "code",
   "execution_count": 25,
   "metadata": {},
   "outputs": [],
   "source": [
    "# Step 3: Define the preprocess_function\n",
    "def preprocess_function(batch):\n",
    "    model_inputs = data_handler.tokenizer(\n",
    "        batch['en'], max_length=data_handler.max_input_length, truncation=True)\n",
    "    labels = data_handler.tokenizer(\n",
    "        batch['es'], max_length=data_handler.max_target_length, truncation=True)\n",
    "    model_inputs[\"labels\"] = labels[\"input_ids\"]\n",
    "    return model_inputs\n"
   ]
  },
  {
   "cell_type": "code",
   "execution_count": 26,
   "metadata": {},
   "outputs": [
    {
     "name": "stderr",
     "output_type": "stream",
     "text": [
      "                                                                   \r"
     ]
    }
   ],
   "source": [
    "# Step 4: Map the preprocess_function to the split dataset\n",
    "tokenized_datasets = split.map(\n",
    "    preprocess_function, batched=True,\n",
    "    remove_columns=split[\"train\"].column_names,\n",
    ")"
   ]
  },
  {
   "cell_type": "code",
   "execution_count": 27,
   "metadata": {},
   "outputs": [
    {
     "name": "stdout",
     "output_type": "stream",
     "text": [
      "{'input_ids': [33, 88, 9222, 48, 3, 0], 'attention_mask': [1, 1, 1, 1, 1, 1], 'labels': [711, 25, 4947, 36359, 8, 91, 11503, 5170, 279, 3, 0]}\n",
      "{'input_ids': [552, 11490, 9, 310, 255, 3, 0], 'attention_mask': [1, 1, 1, 1, 1, 1, 1], 'labels': [54, 260, 88, 547, 6291, 151, 4286, 324, 3, 0]}\n",
      "{'input_ids': [143, 31, 125, 1208, 3, 0], 'attention_mask': [1, 1, 1, 1, 1, 1], 'labels': [539, 43, 155, 1208, 75, 3, 0]}\n",
      "{'input_ids': [1093, 220, 1890, 23, 48, 3, 0], 'attention_mask': [1, 1, 1, 1, 1, 1, 1], 'labels': [15165, 1250, 380, 4227, 2583, 36, 25, 12288, 3, 0]}\n",
      "{'input_ids': [124, 20, 100, 18422, 48, 141, 3, 0], 'attention_mask': [1, 1, 1, 1, 1, 1, 1, 1], 'labels': [350, 73, 18958, 9, 29, 8, 10032, 261, 100, 3, 0]}\n"
     ]
    }
   ],
   "source": [
    "# Print the first few elements of the tokenized_datasets to see the output\n",
    "for i in range(5):\n",
    "    # print()\n",
    "    \n",
    "    print(tokenized_datasets['train'][i])"
   ]
  },
  {
   "cell_type": "code",
   "execution_count": 28,
   "metadata": {},
   "outputs": [
    {
     "name": "stdout",
     "output_type": "stream",
     "text": [
      "Dataset({\n",
      "    features: ['input_ids', 'attention_mask', 'labels'],\n",
      "    num_rows: 21000\n",
      "})\n"
     ]
    }
   ],
   "source": [
    "print(tokenized_datasets['train'])"
   ]
  },
  {
   "cell_type": "code",
   "execution_count": 29,
   "metadata": {},
   "outputs": [
    {
     "name": "stdout",
     "output_type": "stream",
     "text": [
      "DatasetDict({\n",
      "    train: Dataset({\n",
      "        features: ['input_ids', 'attention_mask', 'labels'],\n",
      "        num_rows: 21000\n",
      "    })\n",
      "    test: Dataset({\n",
      "        features: ['input_ids', 'attention_mask', 'labels'],\n",
      "        num_rows: 9000\n",
      "    })\n",
      "})\n"
     ]
    }
   ],
   "source": [
    "print(tokenized_datasets)"
   ]
  },
  {
   "cell_type": "code",
   "execution_count": null,
   "metadata": {},
   "outputs": [],
   "source": []
  }
 ],
 "metadata": {
  "kernelspec": {
   "display_name": "ldm",
   "language": "python",
   "name": "python3"
  },
  "language_info": {
   "codemirror_mode": {
    "name": "ipython",
    "version": 3
   },
   "file_extension": ".py",
   "mimetype": "text/x-python",
   "name": "python",
   "nbconvert_exporter": "python",
   "pygments_lexer": "ipython3",
   "version": "3.11.4"
  },
  "orig_nbformat": 4
 },
 "nbformat": 4,
 "nbformat_minor": 2
}
